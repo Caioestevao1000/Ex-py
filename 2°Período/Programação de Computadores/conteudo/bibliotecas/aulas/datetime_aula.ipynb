{
 "cells": [
  {
   "cell_type": "markdown",
   "id": "2f6e2100",
   "metadata": {},
   "source": [
    "## Aula: módulo `datetime`\n",
    "\n",
    "**Objetivos:**\n",
    "\n",
    "- Representar **datas**, **horas** e **instantes** (`date`, `time`, `datetime`).\n",
    "\n",
    "- Fazer **cálculos de tempo** com `timedelta`.\n",
    "\n",
    "- **Formatar** e **interpretar** strings de data/hora com `strftime`/`strptime`.\n",
    "\n",
    "- Trabalhar (com o essencial) **fuso horário** (`zoneinfo`)."
   ]
  },
  {
   "cell_type": "markdown",
   "id": "e0b4b0ba",
   "metadata": {},
   "source": [
    "Importando os módulos e classes:"
   ]
  },
  {
   "cell_type": "code",
   "execution_count": 4,
   "id": "7b410cb9",
   "metadata": {},
   "outputs": [],
   "source": [
    "from datetime import date, time, datetime, timedelta #classes\n",
    "from zoneinfo import ZoneInfo  # Python 3.9+"
   ]
  },
  {
   "cell_type": "markdown",
   "id": "a1645918",
   "metadata": {},
   "source": [
    "**Mapa mental rápido**\n",
    "\n",
    "`date(YYYY, MM, DD)` → só **data**\n",
    "\n",
    "`time(h, m, s, microseg)` → só **hora**\n",
    "\n",
    "`datetime(YYYY, MM, DD, h, m, s, tzinfo=...)` → **data** + **hora**\n",
    "\n",
    "`timedelta(dias, segundos, horas, minutos, ...)` → **diferença** de tempo\n",
    "\n",
    "`datetime.now(tz)` → **agora**\n",
    "\n",
    "`strftime()` → **objeto** → **texto**\n",
    "\n",
    "`strptime()` → **texto** → **objeto**\n",
    "\n",
    "`ZoneInfo(\"America/Sao_Paulo\")` → **fuso horário oficial**\n",
    "\n",
    "`timestamp()` / `fromtimestamp()` → **segundos desde 1970-01-01 UTC**"
   ]
  },
  {
   "cell_type": "markdown",
   "id": "0dadee97",
   "metadata": {},
   "source": [
    "### Instâncias básicas"
   ]
  },
  {
   "cell_type": "markdown",
   "id": "680dbd56",
   "metadata": {},
   "source": [
    "Hoje"
   ]
  },
  {
   "cell_type": "code",
   "execution_count": 3,
   "id": "0c611ab7",
   "metadata": {},
   "outputs": [
    {
     "name": "stdout",
     "output_type": "stream",
     "text": [
      "2025-10-22\n",
      "2025 10 22\n"
     ]
    }
   ],
   "source": [
    "hoje = date.today()\n",
    "print(hoje)\n",
    "print(hoje.year, hoje.month, hoje.day)\n"
   ]
  },
  {
   "cell_type": "markdown",
   "id": "aec836c2",
   "metadata": {},
   "source": [
    "Data fixa"
   ]
  },
  {
   "cell_type": "code",
   "execution_count": null,
   "id": "55fe3a70",
   "metadata": {},
   "outputs": [
    {
     "name": "stdout",
     "output_type": "stream",
     "text": [
      "2020-12-17\n",
      "2020 12 17\n"
     ]
    }
   ],
   "source": [
    "data_fixa = date(2020, 12, 17)  # ou (year=2020, month=12, day=17)\n",
    "print(data_fixa)\n",
    "print(data_fixa.year, data_fixa.month, data_fixa.day)\n"
   ]
  },
  {
   "cell_type": "markdown",
   "id": "30485224",
   "metadata": {},
   "source": [
    "Hora fixa"
   ]
  },
  {
   "cell_type": "code",
   "execution_count": 8,
   "id": "b3bcd968",
   "metadata": {},
   "outputs": [
    {
     "name": "stdout",
     "output_type": "stream",
     "text": [
      "15:30:45\n",
      "15 30 45\n"
     ]
    }
   ],
   "source": [
    "\n",
    "hora_fixa = time(15, 30, 45)  # ou (hour=15, minute=30, second=45)\n",
    "print(hora_fixa)\n",
    "print(hora_fixa.hour, hora_fixa.minute, hora_fixa.second)\n",
    "\n"
   ]
  },
  {
   "cell_type": "markdown",
   "id": "09ba7564",
   "metadata": {},
   "source": [
    "Data e hora"
   ]
  },
  {
   "cell_type": "code",
   "execution_count": 5,
   "id": "558a37fd",
   "metadata": {},
   "outputs": [
    {
     "name": "stdout",
     "output_type": "stream",
     "text": [
      "2023-10-25 14:30:48\n"
     ]
    }
   ],
   "source": [
    "dt = datetime(2023, 10, 25, 14, 30, 48)  # (year, month, day, hour, minute, second)\n",
    "print(dt)\n"
   ]
  },
  {
   "cell_type": "markdown",
   "id": "4a260f9d",
   "metadata": {},
   "source": [
    "Nome do mês"
   ]
  },
  {
   "cell_type": "code",
   "execution_count": 6,
   "id": "deadb7f9",
   "metadata": {},
   "outputs": [
    {
     "name": "stdout",
     "output_type": "stream",
     "text": [
      "22 de outubro de 2023\n"
     ]
    }
   ],
   "source": [
    "MESES_PT = [\"\", \"janeiro\",\"fevereiro\",\"março\",\"abril\",\"maio\",\"junho\",\n",
    "            \"julho\",\"agosto\",\"setembro\",\"outubro\",\"novembro\",\"dezembro\"]\n",
    "\n",
    "date = date(year=2023, month=10, day=22)\n",
    "print(f\"{date.day} de {MESES_PT[date.month]} de {date.year}\")\n",
    "\n"
   ]
  },
  {
   "cell_type": "markdown",
   "id": "3a977b54",
   "metadata": {},
   "source": [
    "Hora agora (fuso horário local)"
   ]
  },
  {
   "cell_type": "code",
   "execution_count": 7,
   "id": "912be3c1",
   "metadata": {},
   "outputs": [
    {
     "name": "stdout",
     "output_type": "stream",
     "text": [
      "2025-10-22 19:43:10.250805\n"
     ]
    }
   ],
   "source": [
    "\n",
    "agora = datetime.now()\n",
    "print(agora)"
   ]
  },
  {
   "cell_type": "markdown",
   "id": "26931593",
   "metadata": {},
   "source": [
    "Hora agora (fuso horário de São Paulo):\n",
    "\n",
    "Obs.: pode ser necessário instalar o `tzdata`: digite *python -m pip install tzdata* no terminal"
   ]
  },
  {
   "cell_type": "code",
   "execution_count": 12,
   "id": "cfeb8b33",
   "metadata": {},
   "outputs": [
    {
     "ename": "ZoneInfoNotFoundError",
     "evalue": "'No time zone found with key America/Sao_Paulo'",
     "output_type": "error",
     "traceback": [
      "\u001b[31m---------------------------------------------------------------------------\u001b[39m",
      "\u001b[31mModuleNotFoundError\u001b[39m                       Traceback (most recent call last)",
      "\u001b[36mFile \u001b[39m\u001b[32mc:\\Users\\PC\\AppData\\Local\\Programs\\Python\\Python313\\Lib\\zoneinfo\\_common.py:12\u001b[39m, in \u001b[36mload_tzdata\u001b[39m\u001b[34m(key)\u001b[39m\n\u001b[32m     11\u001b[39m \u001b[38;5;28;01mtry\u001b[39;00m:\n\u001b[32m---> \u001b[39m\u001b[32m12\u001b[39m     path = \u001b[43mresources\u001b[49m\u001b[43m.\u001b[49m\u001b[43mfiles\u001b[49m\u001b[43m(\u001b[49m\u001b[43mpackage_name\u001b[49m\u001b[43m)\u001b[49m.joinpath(resource_name)\n\u001b[32m     13\u001b[39m     \u001b[38;5;66;03m# gh-85702: Prevent PermissionError on Windows\u001b[39;00m\n",
      "\u001b[36mFile \u001b[39m\u001b[32mc:\\Users\\PC\\AppData\\Local\\Programs\\Python\\Python313\\Lib\\importlib\\resources\\_common.py:46\u001b[39m, in \u001b[36mpackage_to_anchor.<locals>.wrapper\u001b[39m\u001b[34m(anchor, package)\u001b[39m\n\u001b[32m     45\u001b[39m     \u001b[38;5;28;01mreturn\u001b[39;00m func()\n\u001b[32m---> \u001b[39m\u001b[32m46\u001b[39m \u001b[38;5;28;01mreturn\u001b[39;00m \u001b[43mfunc\u001b[49m\u001b[43m(\u001b[49m\u001b[43manchor\u001b[49m\u001b[43m)\u001b[49m\n",
      "\u001b[36mFile \u001b[39m\u001b[32mc:\\Users\\PC\\AppData\\Local\\Programs\\Python\\Python313\\Lib\\importlib\\resources\\_common.py:56\u001b[39m, in \u001b[36mfiles\u001b[39m\u001b[34m(anchor)\u001b[39m\n\u001b[32m     53\u001b[39m \u001b[38;5;250m\u001b[39m\u001b[33;03m\"\"\"\u001b[39;00m\n\u001b[32m     54\u001b[39m \u001b[33;03mGet a Traversable resource for an anchor.\u001b[39;00m\n\u001b[32m     55\u001b[39m \u001b[33;03m\"\"\"\u001b[39;00m\n\u001b[32m---> \u001b[39m\u001b[32m56\u001b[39m \u001b[38;5;28;01mreturn\u001b[39;00m from_package(\u001b[43mresolve\u001b[49m\u001b[43m(\u001b[49m\u001b[43manchor\u001b[49m\u001b[43m)\u001b[49m)\n",
      "\u001b[36mFile \u001b[39m\u001b[32mc:\\Users\\PC\\AppData\\Local\\Programs\\Python\\Python313\\Lib\\functools.py:934\u001b[39m, in \u001b[36msingledispatch.<locals>.wrapper\u001b[39m\u001b[34m(*args, **kw)\u001b[39m\n\u001b[32m    932\u001b[39m     \u001b[38;5;28;01mraise\u001b[39;00m \u001b[38;5;167;01mTypeError\u001b[39;00m(\u001b[33mf\u001b[39m\u001b[33m'\u001b[39m\u001b[38;5;132;01m{\u001b[39;00mfuncname\u001b[38;5;132;01m}\u001b[39;00m\u001b[33m requires at least \u001b[39m\u001b[33m'\u001b[39m\n\u001b[32m    933\u001b[39m                     \u001b[33m'\u001b[39m\u001b[33m1 positional argument\u001b[39m\u001b[33m'\u001b[39m)\n\u001b[32m--> \u001b[39m\u001b[32m934\u001b[39m \u001b[38;5;28;01mreturn\u001b[39;00m \u001b[43mdispatch\u001b[49m\u001b[43m(\u001b[49m\u001b[43margs\u001b[49m\u001b[43m[\u001b[49m\u001b[32;43m0\u001b[39;49m\u001b[43m]\u001b[49m\u001b[43m.\u001b[49m\u001b[34;43m__class__\u001b[39;49m\u001b[43m)\u001b[49m\u001b[43m(\u001b[49m\u001b[43m*\u001b[49m\u001b[43margs\u001b[49m\u001b[43m,\u001b[49m\u001b[43m \u001b[49m\u001b[43m*\u001b[49m\u001b[43m*\u001b[49m\u001b[43mkw\u001b[49m\u001b[43m)\u001b[49m\n",
      "\u001b[36mFile \u001b[39m\u001b[32mc:\\Users\\PC\\AppData\\Local\\Programs\\Python\\Python313\\Lib\\importlib\\resources\\_common.py:82\u001b[39m, in \u001b[36m_\u001b[39m\u001b[34m(cand)\u001b[39m\n\u001b[32m     80\u001b[39m \u001b[38;5;129m@resolve\u001b[39m.register\n\u001b[32m     81\u001b[39m \u001b[38;5;28;01mdef\u001b[39;00m\u001b[38;5;250m \u001b[39m\u001b[34m_\u001b[39m(cand: \u001b[38;5;28mstr\u001b[39m) -> types.ModuleType:\n\u001b[32m---> \u001b[39m\u001b[32m82\u001b[39m     \u001b[38;5;28;01mreturn\u001b[39;00m \u001b[43mimportlib\u001b[49m\u001b[43m.\u001b[49m\u001b[43mimport_module\u001b[49m\u001b[43m(\u001b[49m\u001b[43mcand\u001b[49m\u001b[43m)\u001b[49m\n",
      "\u001b[36mFile \u001b[39m\u001b[32mc:\\Users\\PC\\AppData\\Local\\Programs\\Python\\Python313\\Lib\\importlib\\__init__.py:88\u001b[39m, in \u001b[36mimport_module\u001b[39m\u001b[34m(name, package)\u001b[39m\n\u001b[32m     87\u001b[39m         level += \u001b[32m1\u001b[39m\n\u001b[32m---> \u001b[39m\u001b[32m88\u001b[39m \u001b[38;5;28;01mreturn\u001b[39;00m \u001b[43m_bootstrap\u001b[49m\u001b[43m.\u001b[49m\u001b[43m_gcd_import\u001b[49m\u001b[43m(\u001b[49m\u001b[43mname\u001b[49m\u001b[43m[\u001b[49m\u001b[43mlevel\u001b[49m\u001b[43m:\u001b[49m\u001b[43m]\u001b[49m\u001b[43m,\u001b[49m\u001b[43m \u001b[49m\u001b[43mpackage\u001b[49m\u001b[43m,\u001b[49m\u001b[43m \u001b[49m\u001b[43mlevel\u001b[49m\u001b[43m)\u001b[49m\n",
      "\u001b[36mFile \u001b[39m\u001b[32m<frozen importlib._bootstrap>:1387\u001b[39m, in \u001b[36m_gcd_import\u001b[39m\u001b[34m(name, package, level)\u001b[39m\n",
      "\u001b[36mFile \u001b[39m\u001b[32m<frozen importlib._bootstrap>:1360\u001b[39m, in \u001b[36m_find_and_load\u001b[39m\u001b[34m(name, import_)\u001b[39m\n",
      "\u001b[36mFile \u001b[39m\u001b[32m<frozen importlib._bootstrap>:1310\u001b[39m, in \u001b[36m_find_and_load_unlocked\u001b[39m\u001b[34m(name, import_)\u001b[39m\n",
      "\u001b[36mFile \u001b[39m\u001b[32m<frozen importlib._bootstrap>:488\u001b[39m, in \u001b[36m_call_with_frames_removed\u001b[39m\u001b[34m(f, *args, **kwds)\u001b[39m\n",
      "\u001b[36mFile \u001b[39m\u001b[32m<frozen importlib._bootstrap>:1387\u001b[39m, in \u001b[36m_gcd_import\u001b[39m\u001b[34m(name, package, level)\u001b[39m\n",
      "\u001b[36mFile \u001b[39m\u001b[32m<frozen importlib._bootstrap>:1360\u001b[39m, in \u001b[36m_find_and_load\u001b[39m\u001b[34m(name, import_)\u001b[39m\n",
      "\u001b[36mFile \u001b[39m\u001b[32m<frozen importlib._bootstrap>:1310\u001b[39m, in \u001b[36m_find_and_load_unlocked\u001b[39m\u001b[34m(name, import_)\u001b[39m\n",
      "\u001b[36mFile \u001b[39m\u001b[32m<frozen importlib._bootstrap>:488\u001b[39m, in \u001b[36m_call_with_frames_removed\u001b[39m\u001b[34m(f, *args, **kwds)\u001b[39m\n",
      "\u001b[36mFile \u001b[39m\u001b[32m<frozen importlib._bootstrap>:1387\u001b[39m, in \u001b[36m_gcd_import\u001b[39m\u001b[34m(name, package, level)\u001b[39m\n",
      "\u001b[36mFile \u001b[39m\u001b[32m<frozen importlib._bootstrap>:1360\u001b[39m, in \u001b[36m_find_and_load\u001b[39m\u001b[34m(name, import_)\u001b[39m\n",
      "\u001b[36mFile \u001b[39m\u001b[32m<frozen importlib._bootstrap>:1324\u001b[39m, in \u001b[36m_find_and_load_unlocked\u001b[39m\u001b[34m(name, import_)\u001b[39m\n",
      "\u001b[31mModuleNotFoundError\u001b[39m: No module named 'tzdata'",
      "\nDuring handling of the above exception, another exception occurred:\n",
      "\u001b[31mZoneInfoNotFoundError\u001b[39m                     Traceback (most recent call last)",
      "\u001b[36mCell\u001b[39m\u001b[36m \u001b[39m\u001b[32mIn[12]\u001b[39m\u001b[32m, line 1\u001b[39m\n\u001b[32m----> \u001b[39m\u001b[32m1\u001b[39m \u001b[38;5;28mprint\u001b[39m(datetime.now(\u001b[43mZoneInfo\u001b[49m\u001b[43m(\u001b[49m\u001b[33;43m\"\u001b[39;49m\u001b[33;43mAmerica/Sao_Paulo\u001b[39;49m\u001b[33;43m\"\u001b[39;49m\u001b[43m)\u001b[49m))\n",
      "\u001b[36mFile \u001b[39m\u001b[32mc:\\Users\\PC\\AppData\\Local\\Programs\\Python\\Python313\\Lib\\zoneinfo\\_common.py:29\u001b[39m, in \u001b[36mload_tzdata\u001b[39m\u001b[34m(key)\u001b[39m\n\u001b[32m     16\u001b[39m     \u001b[38;5;28;01mreturn\u001b[39;00m path.open(\u001b[33m\"\u001b[39m\u001b[33mrb\u001b[39m\u001b[33m\"\u001b[39m)\n\u001b[32m     17\u001b[39m \u001b[38;5;28;01mexcept\u001b[39;00m (\u001b[38;5;167;01mImportError\u001b[39;00m, \u001b[38;5;167;01mFileNotFoundError\u001b[39;00m, \u001b[38;5;167;01mUnicodeEncodeError\u001b[39;00m, \u001b[38;5;167;01mIsADirectoryError\u001b[39;00m):\n\u001b[32m     18\u001b[39m     \u001b[38;5;66;03m# There are four types of exception that can be raised that all amount\u001b[39;00m\n\u001b[32m     19\u001b[39m     \u001b[38;5;66;03m# to \"we cannot find this key\":\u001b[39;00m\n\u001b[32m   (...)\u001b[39m\u001b[32m     27\u001b[39m     \u001b[38;5;66;03m#   such as keys containing a surrogate character.\u001b[39;00m\n\u001b[32m     28\u001b[39m     \u001b[38;5;66;03m# IsADirectoryError: If package_name without a resource_name specified.\u001b[39;00m\n\u001b[32m---> \u001b[39m\u001b[32m29\u001b[39m     \u001b[38;5;28;01mraise\u001b[39;00m ZoneInfoNotFoundError(\u001b[33mf\u001b[39m\u001b[33m\"\u001b[39m\u001b[33mNo time zone found with key \u001b[39m\u001b[38;5;132;01m{\u001b[39;00mkey\u001b[38;5;132;01m}\u001b[39;00m\u001b[33m\"\u001b[39m)\n",
      "\u001b[31mZoneInfoNotFoundError\u001b[39m: 'No time zone found with key America/Sao_Paulo'"
     ]
    }
   ],
   "source": [
    "print(datetime.now(ZoneInfo(\"America/Sao_Paulo\")))\n",
    "\n",
    "  "
   ]
  },
  {
   "cell_type": "markdown",
   "id": "81dc7b9d",
   "metadata": {},
   "source": [
    "### Formatar (`strftime`) e interpretar (`strptime`)\n",
    "\n",
    "Máscaras úteis:\n",
    "- `%d` dia \n",
    "- `%m` mês \n",
    "- `%y` ano (dois dígitos)\n",
    "- `%Y` ano (quatro dígitos)\n",
    "- `%H` hora\n",
    "- `%M` min\n",
    "- `%S` seg \n",
    "- `%A` dia da semana \n",
    "- `%B` mês por extenso"
   ]
  },
  {
   "cell_type": "markdown",
   "id": "ab64c6f7",
   "metadata": {},
   "source": [
    "Formtar (`strftime`):"
   ]
  },
  {
   "cell_type": "code",
   "execution_count": null,
   "id": "2879cc29",
   "metadata": {},
   "outputs": [
    {
     "name": "stdout",
     "output_type": "stream",
     "text": [
      "2025-10-22\n"
     ]
    }
   ],
   "source": [
    "data = date.today()\n",
    "print(data)\n",
    "print(data.strftime(\"%d/%m/%Y\"))\n",
    "\n",
    "\n"
   ]
  },
  {
   "cell_type": "markdown",
   "id": "21d64b70",
   "metadata": {},
   "source": [
    "Interpretar (`strptime`):"
   ]
  },
  {
   "cell_type": "code",
   "execution_count": 15,
   "id": "f266ac09",
   "metadata": {},
   "outputs": [
    {
     "name": "stdout",
     "output_type": "stream",
     "text": [
      "2023-10-22 00:00:00\n"
     ]
    }
   ],
   "source": [
    "\n",
    "str = \"2023-10-22\"\n",
    "dt = datetime.strptime(str, \"%Y-%m-%d\")  # retorna um objeto datetime\n",
    "print(dt)"
   ]
  },
  {
   "cell_type": "markdown",
   "id": "13ccd990",
   "metadata": {},
   "source": [
    "### Aritmética com `timedelta`"
   ]
  },
  {
   "cell_type": "markdown",
   "id": "26cc457d",
   "metadata": {},
   "source": [
    "Prazo em 10 dias:"
   ]
  },
  {
   "cell_type": "code",
   "execution_count": null,
   "id": "243b4463",
   "metadata": {},
   "outputs": [],
   "source": [
    "\n",
    "hoje = date.today()\n",
    "prazo10 = hoje + timedelta(days=10)\n",
    "print(prazo10)\n",
    "\n"
   ]
  },
  {
   "cell_type": "markdown",
   "id": "87b7c4fa",
   "metadata": {},
   "source": [
    "Agora, daqui 1h30 e há 2 dias:"
   ]
  },
  {
   "cell_type": "code",
   "execution_count": null,
   "id": "24980e90",
   "metadata": {},
   "outputs": [],
   "source": [
    "agora = datetime.now()\n",
    "td = timedelta(days=2, hours=3, minutes=15)\n",
    "nova_data = agora + td\n",
    "print(nova_data)\n",
    "\n",
    "\n",
    "\n"
   ]
  },
  {
   "cell_type": "markdown",
   "id": "5e445ce5",
   "metadata": {},
   "source": [
    "Diferenças:"
   ]
  },
  {
   "cell_type": "code",
   "execution_count": null,
   "id": "a5f9ee2a",
   "metadata": {},
   "outputs": [],
   "source": [
    "\n",
    "agora - datetime.now()\n",
    "print('Hoje', agora)\n",
    "td = (timedelta(days=2))\n",
    "print('Dois dias depois:', agora + td)\n",
    "print('Dois dias antes:', agora - td)"
   ]
  },
  {
   "cell_type": "markdown",
   "id": "0de741b5",
   "metadata": {},
   "source": [
    "### Timestamps (segundos desde 1970-01-01 UTC)"
   ]
  },
  {
   "cell_type": "code",
   "execution_count": 20,
   "id": "4667e069",
   "metadata": {},
   "outputs": [
    {
     "name": "stdout",
     "output_type": "stream",
     "text": [
      "1761175152.557752\n"
     ]
    }
   ],
   "source": [
    "agora = datetime.now()\n",
    "print(agora.timestamp())  # segundos desde 01/01/1970"
   ]
  },
  {
   "cell_type": "markdown",
   "id": "96b82a32",
   "metadata": {},
   "source": [
    "### Ano bissexto"
   ]
  },
  {
   "cell_type": "code",
   "execution_count": 21,
   "id": "c5c07d39",
   "metadata": {},
   "outputs": [
    {
     "name": "stdout",
     "output_type": "stream",
     "text": [
      "True\n",
      "False\n"
     ]
    }
   ],
   "source": [
    "import calendar\n",
    "print(calendar.isleap(2020))  # True\n",
    "print(calendar.isleap(2023))  # False\n",
    "\n",
    "\n",
    "\n"
   ]
  }
 ],
 "metadata": {
  "kernelspec": {
   "display_name": "Python 3",
   "language": "python",
   "name": "python3"
  },
  "language_info": {
   "codemirror_mode": {
    "name": "ipython",
    "version": 3
   },
   "file_extension": ".py",
   "mimetype": "text/x-python",
   "name": "python",
   "nbconvert_exporter": "python",
   "pygments_lexer": "ipython3",
   "version": "3.13.6"
  }
 },
 "nbformat": 4,
 "nbformat_minor": 5
}
