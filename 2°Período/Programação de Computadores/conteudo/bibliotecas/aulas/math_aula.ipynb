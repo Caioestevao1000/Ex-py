{
 "cells": [
  {
   "cell_type": "markdown",
   "id": "da1d6f64",
   "metadata": {},
   "source": [
    "## Aula: módulo `math`\n",
    "\n",
    "**Objetivos:**\n",
    "\n",
    "- Importar e usar a biblioteca math.\n",
    "\n",
    "- Aplicar constantes e funções matemáticas básicas (raiz, potência, log, trigonometria, arredondamentos).\n",
    "\n",
    "- Lidar com casos numéricos “específicos”: precisão, inf, nan, comparação com tolerância.\n",
    "\n",
    "- Resolver problemas práticos usando math."
   ]
  },
  {
   "cell_type": "markdown",
   "id": "56a66423",
   "metadata": {},
   "source": [
    "### 1) Conceitos essenciais\n",
    "\n",
    "“Como você calcularia raiz quadrada de 2, logaritmo de 100, ou o seno de 30° em Python?”\n",
    "\n",
    "Resposta: com `import math`."
   ]
  },
  {
   "cell_type": "code",
   "execution_count": null,
   "id": "a3cf411d",
   "metadata": {
    "lineNumbers": true
   },
   "outputs": [],
   "source": [
    "import math\n",
    "print(\"Módulo math importado.\")"
   ]
  },
  {
   "cell_type": "markdown",
   "id": "7a0ccd4a",
   "metadata": {},
   "source": [
    "### 2) Constantes\n",
    "\n",
    "`pi`, `e`, `tau` e marcadores numéricos (`inf`, `-inf`, `nan`)."
   ]
  },
  {
   "cell_type": "code",
   "execution_count": null,
   "id": "ef9e222d",
   "metadata": {
    "lineNumbers": true
   },
   "outputs": [],
   "source": [
    "\n",
    "\n",
    "\n",
    "\n"
   ]
  },
  {
   "cell_type": "markdown",
   "id": "268ae643",
   "metadata": {},
   "source": [
    "Métodos para testar as constantes `inf` e `nan`: `isfinite`, `isinf` e `isnan`."
   ]
  },
  {
   "cell_type": "code",
   "execution_count": null,
   "id": "e935f619",
   "metadata": {},
   "outputs": [],
   "source": [
    "\n",
    "\n",
    "\n",
    "\n"
   ]
  },
  {
   "cell_type": "markdown",
   "id": "df7aaef4",
   "metadata": {},
   "source": [
    "### 3) Raiz, potência e logaritmos\n",
    "\n",
    "Métodos `sqrt(x)`, `pow(x, y)`, `log(x)`, `log10(x)` e `log2(x)`.  "
   ]
  },
  {
   "cell_type": "code",
   "execution_count": null,
   "id": "ea68f2f8",
   "metadata": {
    "lineNumbers": true
   },
   "outputs": [],
   "source": [
    "\n",
    "\n",
    "\n",
    "\n"
   ]
  },
  {
   "cell_type": "markdown",
   "id": "4c935fab",
   "metadata": {},
   "source": [
    "\n",
    "### 4) Arredondamentos e decomposição\n",
    "\n",
    "Métodos `floor`, `ceil`, `trunc` e `modf` (fração + inteiro)."
   ]
  },
  {
   "cell_type": "code",
   "execution_count": null,
   "id": "a739dab8",
   "metadata": {
    "lineNumbers": true
   },
   "outputs": [],
   "source": [
    "\n",
    "\n",
    "\n",
    "\n"
   ]
  },
  {
   "cell_type": "markdown",
   "id": "2287aee6",
   "metadata": {},
   "source": [
    "### 5) Trigonometria\n",
    "\n",
    "**Graus × radianos**: converta com `math.radians`/`math.degrees`.\n",
    "\n",
    "`sin/cos/tan` recebem o ângulo em radianos."
   ]
  },
  {
   "cell_type": "code",
   "execution_count": null,
   "id": "6624fc59",
   "metadata": {
    "lineNumbers": true
   },
   "outputs": [],
   "source": [
    "ang_graus = 30                                        # ângulo em graus\n",
    "\n",
    "\n",
    "\n",
    "\n"
   ]
  },
  {
   "cell_type": "markdown",
   "id": "13c5d52b",
   "metadata": {},
   "source": [
    "### 6) Combinatória\n",
    "\n",
    "`factorial` -> fatorial.\n",
    "\n",
    "`perm(n, k)` -> permutação (ordem importa).\n",
    "\n",
    "`comb(n, k)` -> combinação (ordem não importa)."
   ]
  },
  {
   "cell_type": "code",
   "execution_count": null,
   "id": "a3df1a2d",
   "metadata": {
    "lineNumbers": true
   },
   "outputs": [],
   "source": [
    "\n",
    "\n",
    "\n",
    "\n"
   ]
  },
  {
   "cell_type": "markdown",
   "id": "630af090",
   "metadata": {},
   "source": [
    "### 7) Precisão\n",
    "\n",
    "Evite `==` com `floats` → use `math.isclose(a, b)`.  "
   ]
  },
  {
   "cell_type": "code",
   "execution_count": null,
   "id": "38769f24",
   "metadata": {
    "lineNumbers": true
   },
   "outputs": [],
   "source": [
    "\n",
    "\n",
    "\n",
    "\n"
   ]
  },
  {
   "cell_type": "markdown",
   "id": "8773d25f",
   "metadata": {},
   "source": [
    "### 8) Extras úteis\n",
    "`hypot` (distância euclidiana) \n",
    "\n",
    "`prod` (produto)"
   ]
  },
  {
   "cell_type": "code",
   "execution_count": null,
   "id": "04b58035",
   "metadata": {
    "lineNumbers": true
   },
   "outputs": [],
   "source": [
    "\n",
    "\n",
    "\n"
   ]
  },
  {
   "cell_type": "markdown",
   "id": "f3f0f807",
   "metadata": {},
   "source": [
    "### 9) Quiz relâmpago\n",
    "\n",
    "**Perguntas** (responda sem olhar a próxima célula):\n",
    "\n",
    "1. `math.sin` espera ângulo em quê?  \n",
    "\n",
    "2. Converta 60° para radianos.  \n",
    "\n",
    "3. Diferença entre `floor`, `ceil` e `trunc`.\n",
    "\n",
    "4. Por que usar `math.isclose` em vez de `==`?  \n",
    "\n",
    "5. Qual função retorna combinação “n escolhe k”?"
   ]
  },
  {
   "cell_type": "markdown",
   "id": "004b293c",
   "metadata": {},
   "source": [
    "\n",
    "<details>\n",
    "<summary><strong>Mostrar respostas</strong></summary>\n",
    "\n",
    "1. **Radianos**. `math.sin` recebe ângulo em **radianos** e retorna um valor adimensional (entre −1 e 1).\n",
    "\n",
    "2. $60^\\circ \\rightarrow \\pi/3\\ \t\\text{rad} \\approx 1{,}0471975512$.\n",
    "\n",
    "3. `floor` / `ceil` / `trunc`:\n",
    "- `floor(x)`: **piso** — maior inteiro **≤ x**.  \n",
    "- `ceil(x)`: **teto** — menor inteiro **≥ x**.  \n",
    "- `trunc(x)`: **trunca para zero** — remove a parte fracionária (ex.: `trunc(-3.7) == -3`).\n",
    "\n",
    "4. Porque floats sofrem **erros de arredondamento**; `==` pode falhar (ex.: `0.1 + 0.2`).  \n",
    "`math.isclose` compara com **tolerância**, tornando a comparação **numérica** robusta.\n",
    "\n",
    "5. `math.comb(n, k)` (combinações, “n escolhe k”).\n",
    "\n",
    "</details>\n"
   ]
  }
 ],
 "metadata": {
  "kernelspec": {
   "display_name": "Python 3",
   "language": "python",
   "name": "python3"
  },
  "language_info": {
   "codemirror_mode": {
    "name": "ipython",
    "version": 3
   },
   "file_extension": ".py",
   "mimetype": "text/x-python",
   "name": "python",
   "nbconvert_exporter": "python",
   "pygments_lexer": "ipython3",
   "version": "3.13.7"
  }
 },
 "nbformat": 4,
 "nbformat_minor": 5
}
