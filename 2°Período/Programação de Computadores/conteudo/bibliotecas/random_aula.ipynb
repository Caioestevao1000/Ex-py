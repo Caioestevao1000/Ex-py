{
 "cells": [
  {
   "cell_type": "markdown",
   "id": "aa66a782",
   "metadata": {},
   "source": [
    "## Aula: módulo `random`\n",
    "\n",
    "**Objetivo da aula**: gerar números aleatórios reprodutíveis, realizar sorteios, amostragens (com e sem reposição) e embaralhamentos; entender quando **não** usar `random` (segurança)."
   ]
  },
  {
   "cell_type": "markdown",
   "id": "15897c01",
   "metadata": {},
   "source": [
    "### 1) Conceitos essenciais\n",
    "- **Pseudoaleatoriedade**: a sequência é determinística dado um `seed` (semente).\n",
    "- **Reprodutibilidade**: use `random.seed(...)` para obter sempre os mesmos resultados em testes/demonstrações.\n",
    "- **Segurança**: **não use `random`** para senhas, chaves ou tokens. Prefira `secrets`."
   ]
  },
  {
   "cell_type": "markdown",
   "id": "db19868e",
   "metadata": {},
   "source": [
    "Importando a biblioteca `random`:"
   ]
  },
  {
   "cell_type": "code",
   "execution_count": null,
   "id": "4366e090",
   "metadata": {},
   "outputs": [],
   "source": []
  },
  {
   "cell_type": "markdown",
   "id": "f35d0ea2",
   "metadata": {},
   "source": [
    "### 2) Métodos"
   ]
  },
  {
   "cell_type": "markdown",
   "id": "3c114a0e",
   "metadata": {},
   "source": [
    "`random.random()` - retorna um **float** no intervalo **[0.0, 1.0)**, isto é, inclui 0.0 e exclui 1.0:"
   ]
  },
  {
   "cell_type": "code",
   "execution_count": null,
   "id": "69aee215",
   "metadata": {},
   "outputs": [],
   "source": []
  },
  {
   "cell_type": "markdown",
   "id": "eebf3b35",
   "metadata": {},
   "source": [
    "`random.uniform(a, b)` – retorna um **float** distribuído uniformemente no intervalo **[a, b]**, com as duas extremidades possíveis."
   ]
  },
  {
   "cell_type": "code",
   "execution_count": null,
   "id": "ceaa0088",
   "metadata": {},
   "outputs": [],
   "source": []
  },
  {
   "cell_type": "markdown",
   "id": "cca1ebf0",
   "metadata": {},
   "source": [
    "`random.randint(a, b)` – retorna um **inteiro** uniforme no intervalo **[a, b]**, **incluindo** `b`."
   ]
  },
  {
   "cell_type": "code",
   "execution_count": null,
   "id": "19397622",
   "metadata": {},
   "outputs": [],
   "source": []
  },
  {
   "cell_type": "markdown",
   "id": "49ef0ee3",
   "metadata": {},
   "source": [
    "`random.randrange(início, fim, passo)` – retorna um **inteiro** escolhido de ``range(início, fim, passo)``, ou seja, **exclui** `fim`."
   ]
  },
  {
   "cell_type": "code",
   "execution_count": null,
   "id": "6022a4b1",
   "metadata": {},
   "outputs": [],
   "source": []
  },
  {
   "cell_type": "markdown",
   "id": "d4c7caae",
   "metadata": {},
   "source": [
    "`random.choice(seq)` – retorna um **único elemento** escolhido aleatoriamente de uma sequência não vazia."
   ]
  },
  {
   "cell_type": "code",
   "execution_count": null,
   "id": "2b62c389",
   "metadata": {},
   "outputs": [],
   "source": [
    "\n"
   ]
  },
  {
   "cell_type": "markdown",
   "id": "67f85682",
   "metadata": {},
   "source": [
    "`random.sample(pop, k)` – retorna **k elementos distintos** da população, **sem reposição**, como nova lista."
   ]
  },
  {
   "cell_type": "code",
   "execution_count": null,
   "id": "e1ec0692",
   "metadata": {},
   "outputs": [],
   "source": [
    "\n",
    "\n"
   ]
  },
  {
   "cell_type": "markdown",
   "id": "fa569fdb",
   "metadata": {},
   "source": [
    "`random.choices(pop, k=..., weights=...)` – retorna **k elementos** da população **com reposição**, podendo usar pesos para probabilidades."
   ]
  },
  {
   "cell_type": "code",
   "execution_count": null,
   "id": "f5e50f5d",
   "metadata": {},
   "outputs": [],
   "source": [
    "\n",
    "\n",
    "\n"
   ]
  },
  {
   "cell_type": "markdown",
   "id": "4918b9e2",
   "metadata": {},
   "source": [
    "`random.shuffle(seq)` – **embaralha in-place** a sequência mutável (como uma lista), alterando-a diretamente."
   ]
  },
  {
   "cell_type": "code",
   "execution_count": null,
   "id": "c2dfdad1",
   "metadata": {},
   "outputs": [],
   "source": [
    "\n",
    "\n"
   ]
  },
  {
   "cell_type": "markdown",
   "id": "cdd5d80c",
   "metadata": {},
   "source": [
    "### 3) **SEM** `seed` (semente) *versus* **COM** `seed` (semente)"
   ]
  },
  {
   "cell_type": "markdown",
   "id": "fead2f4e",
   "metadata": {},
   "source": [
    "**SEM** `seed` (semente)"
   ]
  },
  {
   "cell_type": "code",
   "execution_count": null,
   "id": "253627e1",
   "metadata": {},
   "outputs": [],
   "source": [
    "\n"
   ]
  },
  {
   "cell_type": "markdown",
   "id": "1454df44",
   "metadata": {},
   "source": [
    "**COM** `seed` (semente)"
   ]
  },
  {
   "cell_type": "code",
   "execution_count": null,
   "id": "82f0c7c2",
   "metadata": {},
   "outputs": [],
   "source": [
    "\n"
   ]
  },
  {
   "cell_type": "markdown",
   "id": "72396559",
   "metadata": {},
   "source": [
    "### 4) Quiz rápido — `random` (V/F)\n",
    "\n",
    "1) `random.random()` pode retornar exatamente **1.0**.  \n",
    "2) `random.uniform(a, b)` pode incluir **a** ou **b** no resultado.  \n",
    "3) `random.randint(1, 6)` pode retornar **6**.  \n",
    "4) `random.sample(pop, k)` pode trazer **itens repetidos**.  \n",
    "5) Definir `random.seed(42)` garante a **mesma sequência** de resultados em execuções diferentes."
   ]
  },
  {
   "cell_type": "markdown",
   "id": "d3489abb",
   "metadata": {},
   "source": [
    "<details>\n",
    "<summary><strong>Gabarito (clique para revelar)</strong></summary>\n",
    "\n",
    "1) **Falso** — `random()` gera em `[0.0, 1.0)`, exclui 1.0.  \n",
    "2) **Verdadeiro** — `uniform(a,b)` inclui teoricamente os extremos.  \n",
    "3) **Verdadeiro** — `randint(a,b)` é inclusivo em `b`.  \n",
    "4) **Falso** — `sample` é **sem reposição**; para repetir, use `choices`.  \n",
    "5) **Verdadeiro** — mesma seed ⇒ mesma sequência.\n",
    "</details>"
   ]
  },
  {
   "cell_type": "markdown",
   "id": "76a3b2cc",
   "metadata": {},
   "source": [
    "<br>"
   ]
  }
 ],
 "metadata": {
  "kernelspec": {
   "display_name": "Python 3",
   "language": "python",
   "name": "python3"
  },
  "language_info": {
   "codemirror_mode": {
    "name": "ipython",
    "version": 3
   },
   "file_extension": ".py",
   "mimetype": "text/x-python",
   "name": "python",
   "nbconvert_exporter": "python",
   "pygments_lexer": "ipython3",
   "version": "3.13.7"
  }
 },
 "nbformat": 4,
 "nbformat_minor": 5
}
