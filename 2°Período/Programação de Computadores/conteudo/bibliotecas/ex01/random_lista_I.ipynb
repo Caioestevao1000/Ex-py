{
 "cells": [
  {
   "cell_type": "markdown",
   "id": "aa66a782",
   "metadata": {},
   "source": [
    "## Lista de Exercícios I: módulo `random`"
   ]
  },
  {
   "cell_type": "markdown",
   "id": "5a9093a5",
   "metadata": {},
   "source": [
    "**1) Dado de 6 faces**\n",
    "\n",
    "Implemente `rolar_dado() -> int` que retorna um inteiro de 1 a 6."
   ]
  },
  {
   "cell_type": "code",
   "execution_count": null,
   "id": "7d5eb225",
   "metadata": {},
   "outputs": [],
   "source": [
    "\n",
    "\n",
    "# Implementar a função\n",
    "def rolar_dado() -> int:\n",
    "    \"\"\"Retorna um inteiro de 1 a 6.\"\"\"  \n",
    "    raise NotImplementedError\n",
    "\n",
    "\n",
    "# Progama de teste\n",
    "print(rolar_dado())\n",
    "print(rolar_dado())\n",
    "print(rolar_dado())"
   ]
  },
  {
   "cell_type": "markdown",
   "id": "30e74b4b",
   "metadata": {},
   "source": [
    "**2) Sorteio de aluno**\n",
    "\n",
    "Implemente `sortear_aluno(alunos: list[str]) -> str` que retorna um nome da lista.\n",
    "\n",
    "Assuma lista não vazia"
   ]
  },
  {
   "cell_type": "code",
   "execution_count": null,
   "id": "d549a675",
   "metadata": {},
   "outputs": [],
   "source": [
    "from typing import List\n",
    "\n",
    "\n",
    "# Implementar a função\n",
    "def sortear_aluno(alunos:List[str]) -> str:\n",
    "    \"\"\"Retorna um nome da lista (assuma lista não vazia).\"\"\"\n",
    "    raise NotImplementedError\n",
    "\n",
    "\n",
    "# Progama de teste\n",
    "alunos = ['Maria', 'Pedro', 'João', 'Marta']\n",
    "aluno_sorteado = sortear_aluno(alunos)\n",
    "print(aluno_sorteado)"
   ]
  },
  {
   "cell_type": "markdown",
   "id": "0e07bab6",
   "metadata": {},
   "source": [
    "**3) Amostra sem reposição**\n",
    "\n",
    "Implemente `amostrar_tres(itens: List[str]) -> List[str]:` que devolve **3 itens distintos**.\n",
    "\n",
    "Se a lista tiver <3 itens, retorne a própria lista (sem erro)."
   ]
  },
  {
   "cell_type": "code",
   "execution_count": null,
   "id": "1fcedc23",
   "metadata": {},
   "outputs": [],
   "source": [
    "from typing import List\n",
    "\n",
    "\n",
    "# Implementar a função\n",
    "def amostrar_tres(itens: List[str]) -> List[str]:\n",
    "    \"\"\"Retorna 3 itens distintos; se houver menos de 3, retorne a própria lista.\"\"\"\n",
    "    raise NotImplementedError \n",
    "\n",
    "\n",
    "# Progama de teste\n",
    "print(amostrar_tres(['Maria', 'Pedro', 'João', 'Marta', 'Antonio', 'Joaquim']))\n",
    "print(amostrar_tres(['Maria', 'Pedro']))"
   ]
  },
  {
   "cell_type": "markdown",
   "id": "0c3b6740",
   "metadata": {},
   "source": [
    "**4) Senha “didática”** (de 6 caracteres)\n",
    "\n",
    "Implemente `senha_simples() -> str` para gerar uma senha a partir do alfabeto `'ABCDE12345'`.\n",
    "\n",
    "Observação no enunciado: **não usar** para segurança real."
   ]
  },
  {
   "cell_type": "code",
   "execution_count": null,
   "id": "42d05e17",
   "metadata": {},
   "outputs": [],
   "source": [
    "\n",
    "\n",
    "# Implementar a função\n",
    "def senha_simples() -> str:\n",
    "    \"\"\"Retorna uma 'senha' de 6 caracteres usando apenas 'ABCDE12345' (não segura).\"\"\"\n",
    "    raise NotImplementedError\n",
    "\n",
    "\n",
    "# Programa de teste\n",
    "print(senha_simples())\n",
    "print(senha_simples())"
   ]
  },
  {
   "cell_type": "markdown",
   "id": "c905ad10",
   "metadata": {},
   "source": [
    "**5) Embaralhar questões**\n",
    "\n",
    "Implemente `embaralhar(questoes: List[str]) -> List[str]` que retorna **nova lista** embaralhada (não altere a original)."
   ]
  },
  {
   "cell_type": "code",
   "execution_count": null,
   "id": "3c161691",
   "metadata": {},
   "outputs": [],
   "source": [
    "from typing import List\n",
    "\n",
    "\n",
    "# Implementar a função\n",
    "def embaralhar(questoes: List[str]) -> List[str]:\n",
    "    \"\"\"Retorna nova lista embaralhada (não altere a original).\"\"\"\n",
    "    raise NotImplementedError\n",
    "\n",
    "\n",
    "# Pragrama de teste\n",
    "questoes = ['Q1','Q2','Q3','Q4','Q5']\n",
    "print(embaralhar(questoes))"
   ]
  },
  {
   "cell_type": "markdown",
   "id": "baa8306c",
   "metadata": {},
   "source": [
    "**6) Lançar 2 dados e somar**\n",
    "\n",
    "Implemente `soma_dois_dados() -> int` (retorna entre 2 e 12)."
   ]
  },
  {
   "cell_type": "code",
   "execution_count": null,
   "id": "fc2d9c4e",
   "metadata": {},
   "outputs": [],
   "source": [
    "\n",
    "\n",
    "# Implementar a função\n",
    "def soma_dois_dados() -> int:\n",
    "    \"\"\"Lança 2 dados de 6 faces e retorna a soma (2..12).\"\"\"\n",
    "    raise NotImplementedError\n",
    "\n",
    "\n",
    "# Pragrama de teste\n",
    "print(soma_dois_dados())\n",
    "print(soma_dois_dados())"
   ]
  },
  {
   "cell_type": "markdown",
   "id": "a5f51bda",
   "metadata": {},
   "source": [
    "**7) Roleta ponderada (com pesos)**\n",
    "\n",
    "Implemente `sortear_ponderado(itens: list[str], pesos: list[float]) -> str` que devolve um item de itens, usando pesos como probabilidades relativas (mesmo tamanho).\n",
    "\n",
    "Assuma `itens` não vazio e `pesos` com valores não negativos."
   ]
  },
  {
   "cell_type": "code",
   "execution_count": null,
   "id": "57a40d15",
   "metadata": {},
   "outputs": [],
   "source": [
    "from typing import List\n",
    "\n",
    "\n",
    "def sortear_ponderado(itens: List[str], pesos: List[float]) -> str:\n",
    "    \"\"\"\n",
    "    Retorna um item de `itens` usando `pesos` como probabilidades relativas.\n",
    "    Pressupõe: len(itens) == len(pesos) >= 1 e pesos >= 0.\n",
    "    \"\"\"\n",
    "    raise NotImplementedError\n",
    "\n",
    "\n",
    "# Programa de teste\n",
    "itens  = [\"A\",\"B\",\"C\"]\n",
    "pesos  = [0.6, 0.3, 0.1]\n",
    "print(sortear_ponderado(itens, pesos))"
   ]
  },
  {
   "cell_type": "markdown",
   "id": "2432b02e",
   "metadata": {},
   "source": [
    "**8) Permutação aleatória (sem alterar a original)**\n",
    "\n",
    "Implemente `permutacao(lista: list[int]) -> list[int]` que retorna **nova lista** com os mesmos elementos em ordem aleatória, **sem modificar** a lista recebida."
   ]
  },
  {
   "cell_type": "code",
   "execution_count": null,
   "id": "0268fce9",
   "metadata": {},
   "outputs": [],
   "source": [
    "from typing import List\n",
    "\n",
    "\n",
    "def permutacao(lista: List[int]) -> List[int]:\n",
    "    \"\"\"\n",
    "    Retorna uma nova lista com os mesmos elementos em ordem aleatória,\n",
    "    preservando a lista original.\n",
    "    \"\"\"\n",
    "    raise NotImplementedError\n",
    "\n",
    "\n",
    "# Programa de teste\n",
    "nums = [1,2,3,4,5]\n",
    "nova = permutacao(nums)\n",
    "print(\"Original:\", nums)\n",
    "print(\"Permutação:\", nova) "
   ]
  }
 ],
 "metadata": {
  "kernelspec": {
   "display_name": "Python 3",
   "language": "python",
   "name": "python3"
  },
  "language_info": {
   "codemirror_mode": {
    "name": "ipython",
    "version": 3
   },
   "file_extension": ".py",
   "mimetype": "text/x-python",
   "name": "python",
   "nbconvert_exporter": "python",
   "pygments_lexer": "ipython3",
   "version": "3.13.6"
  }
 },
 "nbformat": 4,
 "nbformat_minor": 5
}
