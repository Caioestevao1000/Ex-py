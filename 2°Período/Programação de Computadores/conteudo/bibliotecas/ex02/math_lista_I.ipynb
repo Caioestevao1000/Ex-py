{
 "cells": [
  {
   "cell_type": "markdown",
   "id": "e563af43",
   "metadata": {},
   "source": [
    "## Lista de Exercícios I: módulo `math`"
   ]
  },
  {
   "cell_type": "markdown",
   "id": "4a55f833",
   "metadata": {},
   "source": [
    "\n",
    "### 1) Perímetro da circunferência\n",
    "\n",
    "Implemente `perimetro_circunferencia(raio: float) -> float` que retorna o perímetro de uma circunferência a partir do seu raio.\n",
    "\n",
    "Obs.: **não** use a constante `math.pi`."
   ]
  },
  {
   "cell_type": "code",
   "execution_count": null,
   "id": "fd2552f9",
   "metadata": {},
   "outputs": [],
   "source": [
    "\n",
    "\n",
    "# Implementar a função\n",
    "def perimetro_circunferencia(raio: float) -> float:\n",
    "    \"\"\"Retorna o perímetro da circunferência\"\"\"\n",
    "    return None\n",
    "\n",
    "\n",
    "# Programa de teste\n",
    "print(perimetro_circunferencia(1.0))   # \n",
    "print(perimetro_circunferencia(2.5))   # "
   ]
  },
  {
   "cell_type": "markdown",
   "id": "639ef3a4",
   "metadata": {},
   "source": [
    "\n",
    "### 2) Conversões de ângulo\n",
    "\n",
    "Implemente `graus_para_radianos(g: float) -> float` e `radianos_para_graus(r: float) -> float`."
   ]
  },
  {
   "cell_type": "code",
   "execution_count": null,
   "id": "59992494",
   "metadata": {},
   "outputs": [],
   "source": [
    "import math\n",
    "\n",
    "# Implementar a função\n",
    "def graus_para_radianos(g: float) -> float:\n",
    "    \"\"\"Converte graus para radianos.\"\"\"\n",
    "    return None\n",
    "\n",
    "# Implementar a função\n",
    "def radianos_para_graus(r: float) -> float:\n",
    "    \"\"\"Converte radianos para graus.\"\"\"\n",
    "    return None\n",
    "\n",
    "\n",
    "# Programa de teste\n",
    "print(graus_para_radianos(180))          # ≈ 3.141592653589793\n",
    "print(radianos_para_graus(math.pi/3))     # 60.0"
   ]
  },
  {
   "cell_type": "markdown",
   "id": "ec64aebc",
   "metadata": {},
   "source": [
    "\n",
    "### 3) Logaritmo em base b (com validações)\n",
    "\n",
    "Implemente `log_base_b(x: float, b: float) -> float` que retorna $\\log_b(x)$, com validações `x>0`, `b>0`, `b!=1`. \n",
    "\n",
    "Lance `ValueError` se algum argumento for inválido."
   ]
  },
  {
   "cell_type": "code",
   "execution_count": null,
   "id": "3dd5854d",
   "metadata": {},
   "outputs": [],
   "source": [
    "\n",
    "\n",
    "# Implementar a função\n",
    "def log_base_b(x: float, b: float) -> float:\n",
    "    \"\"\"Retorna log_b(x) com validações: x>0, b>0 e b!=1. \n",
    "       Lança ValueError se algum argumento for inválido.\"\"\"\n",
    "    return None\n",
    "\n",
    "\n",
    "# Programa de teste\n",
    "print(log_base_b(81, 3))     # 4.0\n",
    "print(log_base_b(1000, 10))  # 3.0"
   ]
  },
  {
   "cell_type": "markdown",
   "id": "9d03ca23",
   "metadata": {},
   "source": [
    "### 4) Taxa contínua de crescimento\n",
    "\n",
    "Implemente `taxa_continua(N0: float, N: float, t: float) -> float` que retorna a taxa `r` no modelo $N = N_0 \\cdot e^{r \\cdot t}$. **Isole** $r = \\ln(N/N_0)/t$. \n",
    "\n",
    "Lance `ValueError` se algum argumento for inválido.\n",
    "\n",
    "**Interpretação:** `r` é a taxa de crescimento/decrescimento **por unidade de tempo**."
   ]
  },
  {
   "cell_type": "code",
   "execution_count": null,
   "id": "1ac519c3",
   "metadata": {},
   "outputs": [],
   "source": [
    "\n",
    "\n",
    "\n",
    "# Implementar a função\n",
    "def taxa_continua(N0: float, N: float, t: float) -> float:\n",
    "    \"\"\"Retorna r tal que N = N0 * e^(r*t); exige N0>0, N>0, t>0.\n",
    "       Lança ValueError se algum argumento for inválido.\"\"\"\n",
    "    return None\n",
    "\n",
    "\n",
    "# Programa de teste\n",
    "print(taxa_continua(100, 150, 2))   # ≈ 0.202732...\n",
    "print(taxa_continua(80, 40, 5))     # ≈ -0.138629..."
   ]
  },
  {
   "cell_type": "markdown",
   "id": "33c1277d",
   "metadata": {},
   "source": [
    "### 5) Caixas necessárias\n",
    "\n",
    "**Ideia:** dado um número de **itens** e a **capacidade** de cada caixa, calcular quantas **caixas** são necessárias.  \n",
    "\n",
    "**Interpretação:** se sobrar espaço na última caixa, ela **ainda conta**.\n",
    "\n",
    "Implemente `caixas_necessarias(itens: int, capacidade: int) -> int` que retorna o número de caixas necessárias para guardar `itens`, dado que cada caixa comporta até `capacidade` itens.  \n",
    "\n",
    "Valide: `itens >= 0` e `capacidade > 0`. Para `itens == 0`, retorne `0`. Lance `ValueError` se algum argumento for inválido."
   ]
  },
  {
   "cell_type": "code",
   "execution_count": null,
   "id": "19d47252",
   "metadata": {},
   "outputs": [],
   "source": [
    "\n",
    "\n",
    "\n",
    "# Implementar a função\n",
    "def caixas_necessarias(itens: int, capacidade: int) -> int:\n",
    "    \"\"\"Retorna o número de caixas de capacidade fixa necessárias.\n",
    "       Lança ValueError se algum argumento for inválido.\"\"\"\n",
    "    return None\n",
    "\n",
    "\n",
    "# Programa de teste\n",
    "print(caixas_necessarias(0, 12))    # 0 (nada para guardar)\n",
    "print(caixas_necessarias(12, 12))   # 1 (exato)\n",
    "print(caixas_necessarias(13, 12))   # 2 (uma caixa cheia + uma com 1 item)\n",
    "print(caixas_necessarias(25, 10))   # 3 (10 + 10 + 5)\n",
    "print(caixas_necessarias(100, 7))   # 15"
   ]
  },
  {
   "cell_type": "markdown",
   "id": "b69948ad",
   "metadata": {},
   "source": [
    "\n",
    "### 6) Partes inteira e fracionária\n",
    "\n",
    "Implemente `partes(numero: float) -> tuple[int, float]` que retorna `(inteira, fracionaria)`.\n"
   ]
  },
  {
   "cell_type": "code",
   "execution_count": null,
   "id": "2e72fcd3",
   "metadata": {},
   "outputs": [],
   "source": [
    "\n",
    "\n",
    "# Implementar a função\n",
    "def partes(numero: float) -> tuple[int, float]:\n",
    "    \"\"\"Devolve (parte_inteira:int, parte_fracionaria:float).\"\"\"\n",
    "    return None\n",
    "\n",
    "\n",
    "# Programa de teste\n",
    "print(partes(12.34))   # (12, 0.34)\n",
    "print(partes(-3.7))    # (-3, -0.7)"
   ]
  },
  {
   "cell_type": "markdown",
   "id": "8f617d3f",
   "metadata": {},
   "source": [
    "### 7) Projeção (componentes x e y, ângulo em graus)\n",
    "\n",
    "Implemente `projecao(v_mod: float, ang_graus: float) -> tuple[float, float]` devolvendo `(x, y)` com `x = v*cos(ang)`, `y = v*sin(ang)` (graus)."
   ]
  },
  {
   "cell_type": "code",
   "execution_count": null,
   "id": "aaa36105",
   "metadata": {},
   "outputs": [],
   "source": [
    "\n",
    "\n",
    "# Implementar a função\n",
    "def projecao(v_mod: float, ang_graus: float) -> tuple[float, float]:\n",
    "    \"\"\"Retorna (x, y) projetando o vetor de módulo v_mod no ângulo (graus).\"\"\"\n",
    "    return None\n",
    "\n",
    "\n",
    "# Programa de teste\n",
    "print(projecao(10, 0))     # (10, 0)\n",
    "print(projecao(10, 30))    # (~8.66, ~5.0)\n",
    "print(projecao(10, 90))    # (0, 10)"
   ]
  },
  {
   "cell_type": "markdown",
   "id": "61721814",
   "metadata": {},
   "source": [
    "### 8) Quantidade de senhas (sem repetição)\n",
    "\n",
    "Implemente `quantidade_senhas(n_digitos: int) -> int` considerando dígitos 0–9 **sem repetição**. \n",
    "\n",
    "Essa função deve calcular a quantidade possível de senhas com `n_digitos`.\n",
    "\n",
    "É necessário que `0 ≤ n_digitos ≤ 10`. Lance `ValueError` se o valor for inválido."
   ]
  },
  {
   "cell_type": "code",
   "execution_count": null,
   "id": "d7d7362a",
   "metadata": {},
   "outputs": [],
   "source": [
    "\n",
    "\n",
    "# Implementar a função\n",
    "def quantidade_senhas(n_digitos: int) -> int:\n",
    "    \"\"\"Conta senhas com dígitos 0-9 sem repetição (A(10, n)).\"\"\"\n",
    "    return None\n",
    "\n",
    "\n",
    "# Programa de teste\n",
    "print(quantidade_senhas(0))   # 1\n",
    "print(quantidade_senhas(1))   # 10\n",
    "print(quantidade_senhas(4))   # 5040\n",
    "print(quantidade_senhas(10))  # 3628800"
   ]
  },
  {
   "cell_type": "markdown",
   "id": "8c866f9f",
   "metadata": {},
   "source": [
    "### 9) Triângulo retângulo\n",
    "\n",
    "Determine se três lados **(a, b, c)** formam um **triângulo retângulo** verificando o **Teorema de Pitágoras** com tolerância numérica via `math.isclose`.  \n",
    "\n",
    "- **Valide**: lados positivos e desigualdade triangular (cada lado precisa ser menor do que soma dos outros dois lados).\n",
    "\n",
    "- **Teste**: `x² + y² ≈ z²`. \n",
    "\n",
    "Implemente `triangulo_retangulo(a: float, b: float, c: float) -> bool` que retorna `True` se os três lados formarem um triângulo retângulo (Pitágoras com tolerância).  "
   ]
  },
  {
   "cell_type": "code",
   "execution_count": null,
   "id": "56e7ff7f",
   "metadata": {},
   "outputs": [],
   "source": [
    "\n",
    "\n",
    "# Implementar a função\n",
    "def triangulo_retangulo(a: float, b: float, c: float) -> bool:\n",
    "    \"\"\"Retorna True se (a,b,c) formam triângulo retângulo.\"\"\"\n",
    "    return None\n",
    "\n",
    "\n",
    "# Programa de teste\n",
    "print(triangulo_retangulo(3, 4, 5))           # True (tripla pitagórica)\n",
    "print(triangulo_retangulo(5, 5, 5))           # False (equilátero)\n",
    "print(triangulo_retangulo(10, 6, 8))          # True (múltiplo de 3-4-5)\n",
    "print(triangulo_retangulo(0.3, 0.4, 0.5))     # True (escala pequena)\n",
    "print(triangulo_retangulo(1e8, 0.6e8, 0.8e8)) # True (escala grande)\n",
    "print(triangulo_retangulo(3, 4, 5.000000001)) # True (quase 5)\n",
    "print(triangulo_retangulo(3, 4, 5.01))        # False (desvia demais)"
   ]
  }
 ],
 "metadata": {
  "kernelspec": {
   "display_name": "Python 3",
   "language": "python",
   "name": "python3"
  },
  "language_info": {
   "codemirror_mode": {
    "name": "ipython",
    "version": 3
   },
   "file_extension": ".py",
   "mimetype": "text/x-python",
   "name": "python",
   "nbconvert_exporter": "python",
   "pygments_lexer": "ipython3",
   "version": "3.13.7"
  }
 },
 "nbformat": 4,
 "nbformat_minor": 5
}
